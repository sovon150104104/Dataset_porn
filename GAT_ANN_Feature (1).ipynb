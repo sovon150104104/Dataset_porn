{
 "cells": [
  {
   "cell_type": "code",
   "execution_count": 1,
   "id": "c85a5090-8eb9-4816-8816-535a269ba431",
   "metadata": {
    "tags": []
   },
   "outputs": [
    {
     "name": "stderr",
     "output_type": "stream",
     "text": [
      "Intel(R) Extension for Scikit-learn* enabled (https://github.com/intel/scikit-learn-intelex)\n",
      "/opt/conda/lib/python3.7/site-packages/sklearn/_distributor_init.py:25: FutureWarning: \n",
      "USE_DAAL4PY_SKLEARN variable is deprecated for Intel(R) Extension for Scikit-learn\n",
      "and will be delete in the 2022.1 release.\n",
      "Please, use new construction of global patching:\n",
      "python sklearnex.glob patch_sklearn\n",
      "Read more: https://intel.github.io/scikit-learn-intelex/global_patching.html\n",
      "  FutureWarning)\n"
     ]
    }
   ],
   "source": [
    "import pandas as pd\n",
    "import numpy as np\n",
    "from sklearn.preprocessing import StandardScaler, LabelEncoder\n",
    "from sklearn.model_selection import train_test_split\n",
    "from sklearn.metrics import classification_report\n",
    "from sklearn.neighbors import kneighbors_graph\n",
    "from sklearn.feature_selection import VarianceThreshold\n",
    "import torch\n",
    "import torch.nn.functional as F\n",
    "from torch_geometric.data import Data\n",
    "from torch_geometric.nn import GATConv\n",
    "from lifelines import CoxPHFitter"
   ]
  },
  {
   "cell_type": "code",
   "execution_count": 2,
   "id": "84b841bc-08a4-4c19-b8e1-d6f34271b539",
   "metadata": {
    "tags": []
   },
   "outputs": [],
   "source": [
    "def prefilter_variance(df, top_k=300, time_col=\"survival_time\", event_col=\"event_status\"):\n",
    "    X = df.drop(columns=[time_col, event_col])\n",
    "    y = df[[time_col, event_col]]\n",
    "    variances = X.var().sort_values(ascending=False)\n",
    "    top_features = variances.head(top_k).index\n",
    "    X_top = X[top_features]\n",
    "    return pd.concat([y, X_top], axis=1)\n",
    "\n",
    "# applying Cox\n",
    "def cox_feature_selection(df, time_col=\"survival_time\", event_col=\"event_status\", p_threshold=0.05):\n",
    "    cph = CoxPHFitter(penalizer=0.1)\n",
    "    cph.fit(df, duration_col=time_col, event_col=event_col)\n",
    "    selected = cph.summary[cph.summary['p'] < p_threshold].index.tolist()\n",
    "    return df[selected + [time_col, event_col]]\n",
    "\n",
    "mirna_df = pd.read_csv(\"mirna.csv\")\n",
    "rnaseq_df = pd.read_csv(\"rnaseq.csv\")\n"
   ]
  },
  {
   "cell_type": "code",
   "execution_count": 3,
   "id": "f14bb912-4be9-4927-87a4-1ae6e52e8b31",
   "metadata": {
    "tags": []
   },
   "outputs": [],
   "source": [
    "mirna_labels_raw = mirna_df[\"Unnamed: 0\"]\n",
    "rnaseq_labels_raw = rnaseq_df[\"Unnamed: 0\"]\n",
    "\n",
    "mirna_df = prefilter_variance(mirna_df, top_k=300)\n",
    "rnaseq_df = prefilter_variance(rnaseq_df, top_k=300)\n",
    "\n",
    "mirna_df = cox_feature_selection(mirna_df)\n",
    "rnaseq_df = cox_feature_selection(rnaseq_df)\n",
    "\n",
    "#Supervised labels are back here\n",
    "mirna_df.insert(0, \"Unnamed: 0\", mirna_labels_raw)\n",
    "rnaseq_df.insert(0, \"Unnamed: 0\", rnaseq_labels_raw)\n",
    "\n",
    "def preprocess(df):\n",
    "    le = LabelEncoder()\n",
    "    labels = le.fit_transform(df[\"Unnamed: 0\"].values)\n",
    "    features = df.drop(columns=[\"Unnamed: 0\", \"survival_time\", \"event_status\"], errors=\"ignore\")\n",
    "    features = StandardScaler().fit_transform(features)\n",
    "    return features, labels\n",
    "\n",
    "mirna_features, mirna_labels = preprocess(mirna_df)\n",
    "rnaseq_features, rnaseq_labels = preprocess(rnaseq_df)"
   ]
  },
  {
   "cell_type": "code",
   "execution_count": 4,
   "id": "b1757cb6-55b0-4e20-8f4a-713c2fd93764",
   "metadata": {
    "tags": []
   },
   "outputs": [],
   "source": [
    "def build_graph(features, labels, k=5):\n",
    "    knn = kneighbors_graph(features, k, include_self=False)\n",
    "    edge_index = torch.tensor(np.vstack(knn.nonzero()), dtype=torch.long)\n",
    "    x = torch.tensor(features, dtype=torch.float32)\n",
    "    y = torch.tensor(labels, dtype=torch.long)\n",
    "    return Data(x=x, edge_index=edge_index, y=y)\n",
    "\n",
    "mirna_graph = build_graph(mirna_features, mirna_labels)\n",
    "rnaseq_graph = build_graph(rnaseq_features, rnaseq_labels)"
   ]
  },
  {
   "cell_type": "code",
   "execution_count": 5,
   "id": "d92a73ba-dd40-478f-8782-7ce31eed4421",
   "metadata": {
    "tags": []
   },
   "outputs": [],
   "source": [
    "mirna_graph = build_graph(mirna_features, mirna_labels)\n",
    "rnaseq_graph = build_graph(rnaseq_features, rnaseq_labels)"
   ]
  },
  {
   "cell_type": "code",
   "execution_count": 6,
   "id": "1983d5a8-78f0-4dd0-853a-47e08b6a5a7a",
   "metadata": {
    "tags": []
   },
   "outputs": [],
   "source": [
    "class GAT(torch.nn.Module):\n",
    "    def __init__(self, in_dim, hidden_dim, out_dim, heads=1):\n",
    "        super(GAT, self).__init__()\n",
    "        self.conv1 = GATConv(in_dim, hidden_dim, heads=heads)\n",
    "        self.conv2 = GATConv(hidden_dim * heads, out_dim, heads=1)\n",
    "\n",
    "    def forward(self, data):\n",
    "        x, edge_index = data.x, data.edge_index\n",
    "        x = F.elu(self.conv1(x, edge_index))\n",
    "        return self.conv2(x, edge_index)"
   ]
  },
  {
   "cell_type": "code",
   "execution_count": 7,
   "id": "d8d828da-1969-4b4a-9257-eac66548bccf",
   "metadata": {
    "tags": []
   },
   "outputs": [],
   "source": [
    "def train_gat_embedding(model, data, epochs=100):\n",
    "    optimizer = torch.optim.Adam(model.parameters(), lr=0.01, weight_decay=5e-4)\n",
    "    model.train()\n",
    "    for _ in range(epochs):\n",
    "        optimizer.zero_grad()\n",
    "        out = model(data)\n",
    "        loss = F.cross_entropy(out, data.y)\n",
    "        loss.backward()\n",
    "        optimizer.step()\n",
    "    model.eval()\n",
    "    with torch.no_grad():\n",
    "        return model(data)"
   ]
  },
  {
   "cell_type": "code",
   "execution_count": 8,
   "id": "71da7053-bff3-49b2-a5d9-da92f304bff3",
   "metadata": {
    "tags": []
   },
   "outputs": [],
   "source": [
    "mirna_model = GAT(mirna_features.shape[1], 32, 16)\n",
    "rnaseq_model = GAT(rnaseq_features.shape[1], 32, 16)\n",
    "\n",
    "mirna_embed = train_gat_embedding(mirna_model, mirna_graph)\n",
    "rnaseq_embed = train_gat_embedding(rnaseq_model, rnaseq_graph)\n"
   ]
  },
  {
   "cell_type": "code",
   "execution_count": 9,
   "id": "9fb0d812-af28-4295-9b9f-5fdb420e0c1f",
   "metadata": {
    "tags": []
   },
   "outputs": [],
   "source": [
    "mirna_norm = F.normalize(mirna_embed, p=2, dim=1)\n",
    "rnaseq_norm = F.normalize(rnaseq_embed, p=2, dim=1)\n",
    "combined_features = torch.cat([mirna_norm, rnaseq_norm], dim=1)\n",
    "combined_labels = torch.tensor(mirna_labels, dtype=torch.long)"
   ]
  },
  {
   "cell_type": "code",
   "execution_count": 10,
   "id": "158e912d-9bc6-401a-b3f5-9580598f49f0",
   "metadata": {
    "tags": []
   },
   "outputs": [],
   "source": [
    "X_train, X_test, y_train, y_test = train_test_split(\n",
    "    combined_features, combined_labels,\n",
    "    test_size=0.2, random_state=42, stratify=combined_labels\n",
    ")\n"
   ]
  },
  {
   "cell_type": "code",
   "execution_count": 11,
   "id": "8d77c48f-2b8f-49ca-8826-6f11d2a8c0fe",
   "metadata": {
    "tags": []
   },
   "outputs": [],
   "source": [
    "class FinalANN(torch.nn.Module):\n",
    "    def __init__(self, in_dim, hidden_dim, out_dim):\n",
    "        super(FinalANN, self).__init__()\n",
    "        self.model = torch.nn.Sequential(\n",
    "            torch.nn.Linear(in_dim, hidden_dim),\n",
    "            torch.nn.ReLU(),\n",
    "            torch.nn.Dropout(0.3),\n",
    "            torch.nn.Linear(hidden_dim, out_dim)\n",
    "        )\n",
    "\n",
    "    def forward(self, x):\n",
    "        return self.model(x)\n",
    "\n",
    "final_ann = FinalANN(\n",
    "    in_dim=X_train.shape[1],\n",
    "    hidden_dim=64,\n",
    "    out_dim=len(set(combined_labels.numpy()))\n",
    ")\n",
    "\n",
    "optimizer = torch.optim.Adam(final_ann.parameters(), lr=0.01, weight_decay=5e-4)"
   ]
  },
  {
   "cell_type": "code",
   "execution_count": 12,
   "id": "b659ab1c-e33e-4d36-aa1c-ab6ce60ca550",
   "metadata": {
    "tags": []
   },
   "outputs": [
    {
     "name": "stdout",
     "output_type": "stream",
     "text": [
      "[ANN] Epoch 010 - Loss: 0.5925\n",
      "[ANN] Epoch 020 - Loss: 0.2380\n",
      "[ANN] Epoch 030 - Loss: 0.1282\n",
      "[ANN] Epoch 040 - Loss: 0.0921\n",
      "[ANN] Epoch 050 - Loss: 0.0638\n",
      "[ANN] Epoch 060 - Loss: 0.0625\n",
      "[ANN] Epoch 070 - Loss: 0.0527\n",
      "[ANN] Epoch 080 - Loss: 0.0617\n",
      "[ANN] Epoch 090 - Loss: 0.0560\n",
      "[ANN] Epoch 100 - Loss: 0.0488\n"
     ]
    }
   ],
   "source": [
    "for epoch in range(100):\n",
    "    final_ann.train()\n",
    "    optimizer.zero_grad()\n",
    "    out = final_ann(X_train)\n",
    "    loss = F.cross_entropy(out, y_train)\n",
    "    loss.backward()\n",
    "    optimizer.step()\n",
    "    if (epoch + 1) % 10 == 0:\n",
    "        print(f\"[ANN] Epoch {epoch+1:03d} - Loss: {loss.item():.4f}\")"
   ]
  },
  {
   "cell_type": "code",
   "execution_count": 13,
   "id": "3b9d44cf-f5f7-446c-bf48-4b42248f83c5",
   "metadata": {
    "tags": []
   },
   "outputs": [
    {
     "name": "stdout",
     "output_type": "stream",
     "text": [
      "\n",
      "--- Classification Report: ANN on Fused GAT Embeddings ---\n",
      "              precision    recall  f1-score   support\n",
      "\n",
      "           0       0.98      0.96      0.97        51\n",
      "           1       0.95      0.97      0.96        39\n",
      "           2       1.00      1.00      1.00        13\n",
      "\n",
      "    accuracy                           0.97       103\n",
      "   macro avg       0.98      0.98      0.98       103\n",
      "weighted avg       0.97      0.97      0.97       103\n",
      "\n"
     ]
    }
   ],
   "source": [
    "final_ann.eval()\n",
    "with torch.no_grad():\n",
    "    preds = final_ann(X_test).argmax(dim=1)\n",
    "    print(\"\\n--- Classification Report: ANN on Fused GAT Embeddings ---\")\n",
    "    print(classification_report(y_test.numpy(), preds.numpy()))"
   ]
  },
  {
   "cell_type": "code",
   "execution_count": null,
   "id": "70215009-fe19-428e-95eb-782681697fdd",
   "metadata": {},
   "outputs": [],
   "source": []
  }
 ],
 "metadata": {
  "kernelspec": {
   "display_name": "Python 3 (ipykernel)",
   "language": "python",
   "name": "python3"
  },
  "language_info": {
   "codemirror_mode": {
    "name": "ipython",
    "version": 3
   },
   "file_extension": ".py",
   "mimetype": "text/x-python",
   "name": "python",
   "nbconvert_exporter": "python",
   "pygments_lexer": "ipython3",
   "version": "3.7.13"
  }
 },
 "nbformat": 4,
 "nbformat_minor": 5
}
